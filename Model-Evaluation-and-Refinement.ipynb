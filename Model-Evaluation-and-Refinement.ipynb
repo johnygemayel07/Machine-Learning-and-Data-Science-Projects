{
    "cells": [
        {
            "cell_type": "markdown",
            "metadata": {},
            "source": [
                "<center>\n",
                "    <img src=\"https://cf-courses-data.s3.us.cloud-object-storage.appdomain.cloud/IBMDeveloperSkillsNetwork-DA0101EN-SkillsNetwork/labs/Module%205/images/IDSNlogo.png\" width=\"300\" alt=\"cognitiveclass.ai logo\"  />\n",
                "</center>\n",
                "\n",
                "# Model Evaluation and Refinement\n",
                "\n",
                "Estimated time needed: **30** minutes\n",
                "\n",
                "## Objectives\n",
                "\n",
                "After completing this lab you will be able to:\n",
                "\n",
                "*   Evaluate and refine prediction models\n"
            ]
        },
        {
            "cell_type": "markdown",
            "metadata": {},
            "source": [
                "<h2>Table of Contents</h2>\n",
                "<ul>\n",
                "    <li><a href=\"https://#ref1\">Model Evaluation </a></li>\n",
                "    <li><a href=\"https://#ref2\">Over-fitting, Under-fitting and Model Selection </a></li>\n",
                "    <li><a href=\"https://#ref3\">Ridge Regression </a></li>\n",
                "    <li><a href=\"https://#ref4\">Grid Search</a></li>\n",
                "</ul>\n"
            ]
        },
        {
            "cell_type": "markdown",
            "metadata": {},
            "source": [
                "This dataset was hosted on IBM Cloud object. Click <a href=\"https://cocl.us/DA101EN_object_storage?utm_medium=Exinfluencer&utm_source=Exinfluencer&utm_content=000026UJ&utm_term=10006555&utm_id=NA-SkillsNetwork-Channel-SkillsNetworkCoursesIBMDeveloperSkillsNetworkDA0101ENSkillsNetwork20235326-2021-01-01\">HERE</a> for free storage.\n"
            ]
        },
        {
            "cell_type": "code",
            "execution_count": 100,
            "metadata": {},
            "outputs": [],
            "source": [
                "import pandas as pd\n",
                "import numpy as np\n",
                "\n",
                "# Import clean data \n",
                "path = 'https://cf-courses-data.s3.us.cloud-object-storage.appdomain.cloud/IBMDeveloperSkillsNetwork-DA0101EN-SkillsNetwork/labs/Data%20files/module_5_auto.csv'\n",
                "df = pd.read_csv(path)"
            ]
        },
        {
            "cell_type": "code",
            "execution_count": 101,
            "metadata": {},
            "outputs": [],
            "source": [
                "df.to_csv('module_5_auto.csv')"
            ]
        },
        {
            "cell_type": "markdown",
            "metadata": {},
            "source": [
                "First, let's only use numeric data:\n"
            ]
        },
        {
            "cell_type": "code",
            "execution_count": 102,
            "metadata": {
                "scrolled": false
            },
            "outputs": [
                {
                    "data": {
                        "text/html": [
                            "<div>\n",
                            "<style scoped>\n",
                            "    .dataframe tbody tr th:only-of-type {\n",
                            "        vertical-align: middle;\n",
                            "    }\n",
                            "\n",
                            "    .dataframe tbody tr th {\n",
                            "        vertical-align: top;\n",
                            "    }\n",
                            "\n",
                            "    .dataframe thead th {\n",
                            "        text-align: right;\n",
                            "    }\n",
                            "</style>\n",
                            "<table border=\"1\" class=\"dataframe\">\n",
                            "  <thead>\n",
                            "    <tr style=\"text-align: right;\">\n",
                            "      <th></th>\n",
                            "      <th>Unnamed: 0</th>\n",
                            "      <th>Unnamed: 0.1</th>\n",
                            "      <th>symboling</th>\n",
                            "      <th>normalized-losses</th>\n",
                            "      <th>wheel-base</th>\n",
                            "      <th>length</th>\n",
                            "      <th>width</th>\n",
                            "      <th>height</th>\n",
                            "      <th>curb-weight</th>\n",
                            "      <th>engine-size</th>\n",
                            "      <th>...</th>\n",
                            "      <th>stroke</th>\n",
                            "      <th>compression-ratio</th>\n",
                            "      <th>horsepower</th>\n",
                            "      <th>peak-rpm</th>\n",
                            "      <th>city-mpg</th>\n",
                            "      <th>highway-mpg</th>\n",
                            "      <th>price</th>\n",
                            "      <th>city-L/100km</th>\n",
                            "      <th>diesel</th>\n",
                            "      <th>gas</th>\n",
                            "    </tr>\n",
                            "  </thead>\n",
                            "  <tbody>\n",
                            "    <tr>\n",
                            "      <th>0</th>\n",
                            "      <td>0</td>\n",
                            "      <td>0</td>\n",
                            "      <td>3</td>\n",
                            "      <td>122</td>\n",
                            "      <td>88.6</td>\n",
                            "      <td>0.811148</td>\n",
                            "      <td>0.890278</td>\n",
                            "      <td>48.8</td>\n",
                            "      <td>2548</td>\n",
                            "      <td>130</td>\n",
                            "      <td>...</td>\n",
                            "      <td>2.68</td>\n",
                            "      <td>9.0</td>\n",
                            "      <td>111.0</td>\n",
                            "      <td>5000.0</td>\n",
                            "      <td>21</td>\n",
                            "      <td>27</td>\n",
                            "      <td>13495.0</td>\n",
                            "      <td>11.190476</td>\n",
                            "      <td>0</td>\n",
                            "      <td>1</td>\n",
                            "    </tr>\n",
                            "    <tr>\n",
                            "      <th>1</th>\n",
                            "      <td>1</td>\n",
                            "      <td>1</td>\n",
                            "      <td>3</td>\n",
                            "      <td>122</td>\n",
                            "      <td>88.6</td>\n",
                            "      <td>0.811148</td>\n",
                            "      <td>0.890278</td>\n",
                            "      <td>48.8</td>\n",
                            "      <td>2548</td>\n",
                            "      <td>130</td>\n",
                            "      <td>...</td>\n",
                            "      <td>2.68</td>\n",
                            "      <td>9.0</td>\n",
                            "      <td>111.0</td>\n",
                            "      <td>5000.0</td>\n",
                            "      <td>21</td>\n",
                            "      <td>27</td>\n",
                            "      <td>16500.0</td>\n",
                            "      <td>11.190476</td>\n",
                            "      <td>0</td>\n",
                            "      <td>1</td>\n",
                            "    </tr>\n",
                            "    <tr>\n",
                            "      <th>2</th>\n",
                            "      <td>2</td>\n",
                            "      <td>2</td>\n",
                            "      <td>1</td>\n",
                            "      <td>122</td>\n",
                            "      <td>94.5</td>\n",
                            "      <td>0.822681</td>\n",
                            "      <td>0.909722</td>\n",
                            "      <td>52.4</td>\n",
                            "      <td>2823</td>\n",
                            "      <td>152</td>\n",
                            "      <td>...</td>\n",
                            "      <td>3.47</td>\n",
                            "      <td>9.0</td>\n",
                            "      <td>154.0</td>\n",
                            "      <td>5000.0</td>\n",
                            "      <td>19</td>\n",
                            "      <td>26</td>\n",
                            "      <td>16500.0</td>\n",
                            "      <td>12.368421</td>\n",
                            "      <td>0</td>\n",
                            "      <td>1</td>\n",
                            "    </tr>\n",
                            "    <tr>\n",
                            "      <th>3</th>\n",
                            "      <td>3</td>\n",
                            "      <td>3</td>\n",
                            "      <td>2</td>\n",
                            "      <td>164</td>\n",
                            "      <td>99.8</td>\n",
                            "      <td>0.848630</td>\n",
                            "      <td>0.919444</td>\n",
                            "      <td>54.3</td>\n",
                            "      <td>2337</td>\n",
                            "      <td>109</td>\n",
                            "      <td>...</td>\n",
                            "      <td>3.40</td>\n",
                            "      <td>10.0</td>\n",
                            "      <td>102.0</td>\n",
                            "      <td>5500.0</td>\n",
                            "      <td>24</td>\n",
                            "      <td>30</td>\n",
                            "      <td>13950.0</td>\n",
                            "      <td>9.791667</td>\n",
                            "      <td>0</td>\n",
                            "      <td>1</td>\n",
                            "    </tr>\n",
                            "    <tr>\n",
                            "      <th>4</th>\n",
                            "      <td>4</td>\n",
                            "      <td>4</td>\n",
                            "      <td>2</td>\n",
                            "      <td>164</td>\n",
                            "      <td>99.4</td>\n",
                            "      <td>0.848630</td>\n",
                            "      <td>0.922222</td>\n",
                            "      <td>54.3</td>\n",
                            "      <td>2824</td>\n",
                            "      <td>136</td>\n",
                            "      <td>...</td>\n",
                            "      <td>3.40</td>\n",
                            "      <td>8.0</td>\n",
                            "      <td>115.0</td>\n",
                            "      <td>5500.0</td>\n",
                            "      <td>18</td>\n",
                            "      <td>22</td>\n",
                            "      <td>17450.0</td>\n",
                            "      <td>13.055556</td>\n",
                            "      <td>0</td>\n",
                            "      <td>1</td>\n",
                            "    </tr>\n",
                            "  </tbody>\n",
                            "</table>\n",
                            "<p>5 rows × 21 columns</p>\n",
                            "</div>"
                        ],
                        "text/plain": [
                            "   Unnamed: 0  Unnamed: 0.1  symboling  normalized-losses  wheel-base  \\\n",
                            "0           0             0          3                122        88.6   \n",
                            "1           1             1          3                122        88.6   \n",
                            "2           2             2          1                122        94.5   \n",
                            "3           3             3          2                164        99.8   \n",
                            "4           4             4          2                164        99.4   \n",
                            "\n",
                            "     length     width  height  curb-weight  engine-size  ...  stroke  \\\n",
                            "0  0.811148  0.890278    48.8         2548          130  ...    2.68   \n",
                            "1  0.811148  0.890278    48.8         2548          130  ...    2.68   \n",
                            "2  0.822681  0.909722    52.4         2823          152  ...    3.47   \n",
                            "3  0.848630  0.919444    54.3         2337          109  ...    3.40   \n",
                            "4  0.848630  0.922222    54.3         2824          136  ...    3.40   \n",
                            "\n",
                            "   compression-ratio  horsepower  peak-rpm  city-mpg  highway-mpg    price  \\\n",
                            "0                9.0       111.0    5000.0        21           27  13495.0   \n",
                            "1                9.0       111.0    5000.0        21           27  16500.0   \n",
                            "2                9.0       154.0    5000.0        19           26  16500.0   \n",
                            "3               10.0       102.0    5500.0        24           30  13950.0   \n",
                            "4                8.0       115.0    5500.0        18           22  17450.0   \n",
                            "\n",
                            "   city-L/100km  diesel  gas  \n",
                            "0     11.190476       0    1  \n",
                            "1     11.190476       0    1  \n",
                            "2     12.368421       0    1  \n",
                            "3      9.791667       0    1  \n",
                            "4     13.055556       0    1  \n",
                            "\n",
                            "[5 rows x 21 columns]"
                        ]
                    },
                    "execution_count": 102,
                    "metadata": {},
                    "output_type": "execute_result"
                }
            ],
            "source": [
                "df=df._get_numeric_data()\n",
                "df.head()"
            ]
        },
        {
            "cell_type": "markdown",
            "metadata": {},
            "source": [
                "Libraries for plotting:\n"
            ]
        },
        {
            "cell_type": "code",
            "execution_count": 103,
            "metadata": {},
            "outputs": [],
            "source": [
                "%%capture\n",
                "! pip install ipywidgets"
            ]
        },
        {
            "cell_type": "code",
            "execution_count": 104,
            "metadata": {},
            "outputs": [],
            "source": [
                "from ipywidgets import interact, interactive, fixed, interact_manual"
            ]
        },
        {
            "cell_type": "markdown",
            "metadata": {},
            "source": [
                "<h2>Functions for Plotting</h2>\n"
            ]
        },
        {
            "cell_type": "code",
            "execution_count": 105,
            "metadata": {},
            "outputs": [],
            "source": [
                "def DistributionPlot(RedFunction, BlueFunction, RedName, BlueName, Title):\n",
                "    width = 12\n",
                "    height = 10\n",
                "    plt.figure(figsize=(width, height))\n",
                "\n",
                "    ax1 = sns.distplot(RedFunction, hist=False, color=\"r\", label=RedName)\n",
                "    ax2 = sns.distplot(BlueFunction, hist=False, color=\"b\", label=BlueName, ax=ax1)\n",
                "\n",
                "    plt.title(Title)\n",
                "    plt.xlabel('Price (in dollars)')\n",
                "    plt.ylabel('Proportion of Cars')\n",
                "\n",
                "    plt.show()\n",
                "    plt.close()"
            ]
        },
        {
            "cell_type": "code",
            "execution_count": 106,
            "metadata": {},
            "outputs": [],
            "source": [
                "def PollyPlot(xtrain, xtest, y_train, y_test, lr,poly_transform):\n",
                "    width = 12\n",
                "    height = 10\n",
                "    plt.figure(figsize=(width, height))\n",
                "    \n",
                "    \n",
                "    #training data \n",
                "    #testing data \n",
                "    # lr:  linear regression object \n",
                "    #poly_transform:  polynomial transformation object \n",
                " \n",
                "    xmax=max([xtrain.values.max(), xtest.values.max()])\n",
                "\n",
                "    xmin=min([xtrain.values.min(), xtest.values.min()])\n",
                "\n",
                "    x=np.arange(xmin, xmax, 0.1)\n",
                "\n",
                "\n",
                "    plt.plot(xtrain, y_train, 'ro', label='Training Data')\n",
                "    plt.plot(xtest, y_test, 'go', label='Test Data')\n",
                "    plt.plot(x, lr.predict(poly_transform.fit_transform(x.reshape(-1, 1))), label='Predicted Function')\n",
                "    plt.ylim([-10000, 60000])\n",
                "    plt.ylabel('Price')\n",
                "    plt.legend()"
            ]
        },
        {
            "cell_type": "markdown",
            "metadata": {},
            "source": [
                "<h2 id=\"ref1\">Part 1: Training and Testing</h2>\n",
                "\n",
                "<p>An important step in testing your model is to split your data into training and testing data. We will place the target data <b>price</b> in a separate dataframe <b>y_data</b>:</p>\n"
            ]
        },
        {
            "cell_type": "code",
            "execution_count": 107,
            "metadata": {},
            "outputs": [],
            "source": [
                "y_data = df['price']"
            ]
        },
        {
            "cell_type": "markdown",
            "metadata": {},
            "source": [
                "Drop price data in dataframe **x_data**:\n"
            ]
        },
        {
            "cell_type": "code",
            "execution_count": 108,
            "metadata": {},
            "outputs": [],
            "source": [
                "x_data=df.drop('price',axis=1)"
            ]
        },
        {
            "cell_type": "markdown",
            "metadata": {},
            "source": [
                "Now, we randomly split our data into training and testing data using the function <b>train_test_split</b>.\n"
            ]
        },
        {
            "cell_type": "code",
            "execution_count": 109,
            "metadata": {},
            "outputs": [
                {
                    "name": "stdout",
                    "output_type": "stream",
                    "text": [
                        "number of test samples : 21\n",
                        "number of training samples: 180\n"
                    ]
                }
            ],
            "source": [
                "from sklearn.model_selection import train_test_split\n",
                "\n",
                "\n",
                "x_train, x_test, y_train, y_test = train_test_split(x_data, y_data, test_size=0.10, random_state=1)\n",
                "\n",
                "\n",
                "print(\"number of test samples :\", x_test.shape[0])\n",
                "print(\"number of training samples:\",x_train.shape[0])\n"
            ]
        },
        {
            "cell_type": "markdown",
            "metadata": {},
            "source": [
                "The <b>test_size</b> parameter sets the proportion of data that is split into the testing set. In the above, the testing set is 10% of the total dataset.\n"
            ]
        },
        {
            "cell_type": "markdown",
            "metadata": {},
            "source": [
                "<div class=\"alert alert-danger alertdanger\" style=\"margin-top: 20px\">\n",
                "<h1> Question  #1):</h1>\n",
                "\n",
                "<b>Use the function \"train_test_split\" to split up the dataset such that 40% of the data samples will be utilized for testing. Set the parameter \"random_state\" equal to zero. The output of the function should be the following:  \"x_train1\" , \"x_test1\", \"y_train1\" and  \"y_test1\".</b>\n",
                "\n",
                "</div>\n"
            ]
        },
        {
            "cell_type": "code",
            "execution_count": 110,
            "metadata": {},
            "outputs": [
                {
                    "name": "stdout",
                    "output_type": "stream",
                    "text": [
                        "number of test samples:  81\n",
                        "number of training samples:  120\n"
                    ]
                }
            ],
            "source": [
                "# Write your code below and press Shift+Enter to execute \n",
                "x_train1,x_test1,y_train1,y_test1=train_test_split(x_data,y_data,test_size=0.40, random_state=0)\n",
                "print('number of test samples: ',x_test1.shape[0])\n",
                "print('number of training samples: ',x_train1.shape[0])"
            ]
        },
        {
            "cell_type": "markdown",
            "metadata": {},
            "source": [
                "<details><summary>Click here for the solution</summary>\n",
                "\n",
                "```python\n",
                "x_train1, x_test1, y_train1, y_test1 = train_test_split(x_data, y_data, test_size=0.4, random_state=0) \n",
                "print(\"number of test samples :\", x_test1.shape[0])\n",
                "print(\"number of training samples:\",x_train1.shape[0])\n",
                "```\n",
                "\n",
                "</details>\n"
            ]
        },
        {
            "cell_type": "markdown",
            "metadata": {},
            "source": [
                "Let's import <b>LinearRegression</b> from the module <b>linear_model</b>.\n"
            ]
        },
        {
            "cell_type": "code",
            "execution_count": 111,
            "metadata": {},
            "outputs": [],
            "source": [
                "from sklearn.linear_model import LinearRegression"
            ]
        },
        {
            "cell_type": "markdown",
            "metadata": {},
            "source": [
                "We create a Linear Regression object:\n"
            ]
        },
        {
            "cell_type": "code",
            "execution_count": 112,
            "metadata": {},
            "outputs": [],
            "source": [
                "lre=LinearRegression()"
            ]
        },
        {
            "cell_type": "markdown",
            "metadata": {},
            "source": [
                "We fit the model using the feature \"horsepower\":\n"
            ]
        },
        {
            "cell_type": "code",
            "execution_count": 113,
            "metadata": {},
            "outputs": [
                {
                    "data": {
                        "text/plain": [
                            "LinearRegression()"
                        ]
                    },
                    "execution_count": 113,
                    "metadata": {},
                    "output_type": "execute_result"
                }
            ],
            "source": [
                "lre.fit(x_train[['horsepower']], y_train)"
            ]
        },
        {
            "cell_type": "markdown",
            "metadata": {},
            "source": [
                "Let's calculate the R^2 on the test data:\n"
            ]
        },
        {
            "cell_type": "code",
            "execution_count": 114,
            "metadata": {},
            "outputs": [
                {
                    "data": {
                        "text/plain": [
                            "0.36358755750788263"
                        ]
                    },
                    "execution_count": 114,
                    "metadata": {},
                    "output_type": "execute_result"
                }
            ],
            "source": [
                "lre.score(x_test[['horsepower']], y_test)"
            ]
        },
        {
            "cell_type": "markdown",
            "metadata": {},
            "source": [
                "We can see the R^2 is much smaller using the test data compared to the training data.\n"
            ]
        },
        {
            "cell_type": "code",
            "execution_count": 115,
            "metadata": {},
            "outputs": [
                {
                    "data": {
                        "text/plain": [
                            "0.6619724197515104"
                        ]
                    },
                    "execution_count": 115,
                    "metadata": {},
                    "output_type": "execute_result"
                }
            ],
            "source": [
                "lre.score(x_train[['horsepower']], y_train)"
            ]
        },
        {
            "cell_type": "markdown",
            "metadata": {},
            "source": [
                "<div class=\"alert alert-danger alertdanger\" style=\"margin-top: 20px\">\n",
                "<h1> Question  #2): </h1>\n",
                "<b> \n",
                "Find the R^2  on the test data using 40% of the dataset for testing.\n",
                "</b>\n",
                "</div>\n"
            ]
        },
        {
            "cell_type": "code",
            "execution_count": 116,
            "metadata": {},
            "outputs": [
                {
                    "data": {
                        "text/plain": [
                            "0.7139364665406973"
                        ]
                    },
                    "execution_count": 116,
                    "metadata": {},
                    "output_type": "execute_result"
                }
            ],
            "source": [
                "# Write your code below and press Shift+Enter to execute \n",
                "x_train1, x_test1, y_train1, y_test1 = train_test_split(x_data, y_data, test_size=0.4, random_state=0)\n",
                "lre.fit(x_train1[['horsepower']],y_train1)\n",
                "lre.score(x_test1[['horsepower']],y_test1)"
            ]
        },
        {
            "cell_type": "markdown",
            "metadata": {},
            "source": [
                "<details><summary>Click here for the solution</summary>\n",
                "\n",
                "```python\n",
                "x_train1, x_test1, y_train1, y_test1 = train_test_split(x_data, y_data, test_size=0.4, random_state=0)\n",
                "lre.fit(x_train1[['horsepower']],y_train1)\n",
                "lre.score(x_test1[['horsepower']],y_test1)\n",
                "\n",
                "```\n",
                "\n",
                "</details>\n"
            ]
        },
        {
            "cell_type": "markdown",
            "metadata": {},
            "source": [
                "Sometimes you do not have sufficient testing data; as a result, you may want to perform cross-validation. Let's go over several methods that you can use for cross-validation.\n"
            ]
        },
        {
            "cell_type": "markdown",
            "metadata": {},
            "source": [
                "<h2>Cross-Validation Score</h2>\n"
            ]
        },
        {
            "cell_type": "markdown",
            "metadata": {},
            "source": [
                "Let's import <b>model_selection</b> from the module <b>cross_val_score</b>.\n"
            ]
        },
        {
            "cell_type": "code",
            "execution_count": 117,
            "metadata": {},
            "outputs": [],
            "source": [
                "from sklearn.model_selection import cross_val_score"
            ]
        },
        {
            "cell_type": "markdown",
            "metadata": {},
            "source": [
                "We input the object, the feature (\"horsepower\"), and the target data (y_data). The parameter 'cv' determines the number of folds. In this case, it is 4.\n"
            ]
        },
        {
            "cell_type": "code",
            "execution_count": 118,
            "metadata": {},
            "outputs": [],
            "source": [
                "Rcross = cross_val_score(lre, x_data[['horsepower']], y_data, cv=4)"
            ]
        },
        {
            "cell_type": "markdown",
            "metadata": {},
            "source": [
                "The default scoring is R^2. Each element in the array has the average R^2 value for the fold:\n"
            ]
        },
        {
            "cell_type": "code",
            "execution_count": 119,
            "metadata": {},
            "outputs": [
                {
                    "data": {
                        "text/plain": [
                            "array([0.7746232 , 0.51716687, 0.74785353, 0.04839605])"
                        ]
                    },
                    "execution_count": 119,
                    "metadata": {},
                    "output_type": "execute_result"
                }
            ],
            "source": [
                "Rcross"
            ]
        },
        {
            "cell_type": "markdown",
            "metadata": {},
            "source": [
                "We can calculate the average and standard deviation of our estimate:\n"
            ]
        },
        {
            "cell_type": "code",
            "execution_count": 120,
            "metadata": {},
            "outputs": [
                {
                    "name": "stdout",
                    "output_type": "stream",
                    "text": [
                        "The mean of the folds are 0.522009915042119 and the standard deviation is 0.291183944475603\n"
                    ]
                }
            ],
            "source": [
                "print(\"The mean of the folds are\", Rcross.mean(), \"and the standard deviation is\" , Rcross.std())"
            ]
        },
        {
            "cell_type": "markdown",
            "metadata": {},
            "source": [
                "We can use negative squared error as a score by setting the parameter  'scoring' metric to 'neg_mean_squared_error'.\n"
            ]
        },
        {
            "cell_type": "code",
            "execution_count": 121,
            "metadata": {},
            "outputs": [
                {
                    "data": {
                        "text/plain": [
                            "array([20254142.84026702, 43745493.2650517 , 12539630.34014931,\n",
                            "       17561927.72247591])"
                        ]
                    },
                    "execution_count": 121,
                    "metadata": {},
                    "output_type": "execute_result"
                }
            ],
            "source": [
                "-1 * cross_val_score(lre,x_data[['horsepower']], y_data,cv=4,scoring='neg_mean_squared_error')"
            ]
        },
        {
            "cell_type": "markdown",
            "metadata": {},
            "source": [
                "<div class=\"alert alert-danger alertdanger\" style=\"margin-top: 20px\">\n",
                "<h1> Question  #3): </h1>\n",
                "<b> \n",
                "Calculate the average R^2 using two folds, then find the average R^2 for the second fold utilizing the \"horsepower\" feature: \n",
                "</b>\n",
                "</div>\n"
            ]
        },
        {
            "cell_type": "code",
            "execution_count": 122,
            "metadata": {},
            "outputs": [
                {
                    "data": {
                        "text/plain": [
                            "0.5166761697127429"
                        ]
                    },
                    "execution_count": 122,
                    "metadata": {},
                    "output_type": "execute_result"
                }
            ],
            "source": [
                "# Write your code below and press Shift+Enter to execute \n",
                "R1cross=cross_val_score(lre,x_data[['horsepower']],y_data,cv=2)\n",
                "R1cross.mean()"
            ]
        },
        {
            "cell_type": "markdown",
            "metadata": {},
            "source": [
                "<details><summary>Click here for the solution</summary>\n",
                "\n",
                "```python\n",
                "Rc=cross_val_score(lre,x_data[['horsepower']], y_data,cv=2)\n",
                "Rc.mean()\n",
                "\n",
                "```\n",
                "\n",
                "</details>\n"
            ]
        },
        {
            "cell_type": "markdown",
            "metadata": {},
            "source": [
                "You can also use the function 'cross_val_predict' to predict the output. The function splits up the data into the specified number of folds, with one fold for testing and the other folds are used for training. First, import the function:\n"
            ]
        },
        {
            "cell_type": "code",
            "execution_count": 123,
            "metadata": {},
            "outputs": [],
            "source": [
                "from sklearn.model_selection import cross_val_predict"
            ]
        },
        {
            "cell_type": "markdown",
            "metadata": {},
            "source": [
                "We input the object, the feature <b>\"horsepower\"</b>, and the target data <b>y_data</b>. The parameter 'cv' determines the number of folds. In this case, it is 4. We can produce an output:\n"
            ]
        },
        {
            "cell_type": "code",
            "execution_count": 124,
            "metadata": {},
            "outputs": [
                {
                    "data": {
                        "text/plain": [
                            "array([14141.63807508, 14141.63807508, 20814.29423473, 12745.03562306,\n",
                            "       14762.35027598])"
                        ]
                    },
                    "execution_count": 124,
                    "metadata": {},
                    "output_type": "execute_result"
                }
            ],
            "source": [
                "yhat = cross_val_predict(lre,x_data[['horsepower']], y_data,cv=4)\n",
                "yhat[0:5]"
            ]
        },
        {
            "cell_type": "markdown",
            "metadata": {},
            "source": [
                "<h2 id=\"ref2\">Part 2: Overfitting, Underfitting and Model Selection</h2>\n",
                "\n",
                "<p>It turns out that the test data, sometimes referred to as the \"out of sample data\", is a much better measure of how well your model performs in the real world.  One reason for this is overfitting.\n",
                "\n",
                "Let's go over some examples. It turns out these differences are more apparent in Multiple Linear Regression and Polynomial Regression so we will explore overfitting in that context.</p>\n"
            ]
        },
        {
            "cell_type": "markdown",
            "metadata": {},
            "source": [
                "Let's create Multiple Linear Regression objects and train the model using <b>'horsepower'</b>, <b>'curb-weight'</b>, <b>'engine-size'</b> and <b>'highway-mpg'</b> as features.\n"
            ]
        },
        {
            "cell_type": "code",
            "execution_count": 125,
            "metadata": {},
            "outputs": [
                {
                    "data": {
                        "text/plain": [
                            "LinearRegression()"
                        ]
                    },
                    "execution_count": 125,
                    "metadata": {},
                    "output_type": "execute_result"
                }
            ],
            "source": [
                "lr = LinearRegression()\n",
                "lr.fit(x_train[['horsepower', 'curb-weight', 'engine-size', 'highway-mpg']], y_train)"
            ]
        },
        {
            "cell_type": "markdown",
            "metadata": {},
            "source": [
                "Prediction using training data:\n"
            ]
        },
        {
            "cell_type": "code",
            "execution_count": 126,
            "metadata": {},
            "outputs": [
                {
                    "data": {
                        "text/plain": [
                            "array([ 7426.6731551 , 28323.75090803, 14213.38819709,  4052.34146983,\n",
                            "       34500.19124244])"
                        ]
                    },
                    "execution_count": 126,
                    "metadata": {},
                    "output_type": "execute_result"
                }
            ],
            "source": [
                "yhat_train = lr.predict(x_train[['horsepower', 'curb-weight', 'engine-size', 'highway-mpg']])\n",
                "yhat_train[0:5]"
            ]
        },
        {
            "cell_type": "markdown",
            "metadata": {},
            "source": [
                "Prediction using test data:\n"
            ]
        },
        {
            "cell_type": "code",
            "execution_count": 127,
            "metadata": {},
            "outputs": [
                {
                    "data": {
                        "text/plain": [
                            "array([11349.35089149,  5884.11059106, 11208.6928275 ,  6641.07786278,\n",
                            "       15565.79920282])"
                        ]
                    },
                    "execution_count": 127,
                    "metadata": {},
                    "output_type": "execute_result"
                }
            ],
            "source": [
                "yhat_test = lr.predict(x_test[['horsepower', 'curb-weight', 'engine-size', 'highway-mpg']])\n",
                "yhat_test[0:5]"
            ]
        },
        {
            "cell_type": "markdown",
            "metadata": {},
            "source": [
                "Let's perform some model evaluation using our training and testing data separately. First, we import the seaborn and matplotlib library for plotting.\n"
            ]
        },
        {
            "cell_type": "code",
            "execution_count": 128,
            "metadata": {},
            "outputs": [],
            "source": [
                "import matplotlib.pyplot as plt\n",
                "%matplotlib inline\n",
                "import seaborn as sns"
            ]
        },
        {
            "cell_type": "markdown",
            "metadata": {},
            "source": [
                "Let's examine the distribution of the predicted values of the training data.\n"
            ]
        },
        {
            "cell_type": "code",
            "execution_count": 129,
            "metadata": {},
            "outputs": [
                {
                    "name": "stderr",
                    "output_type": "stream",
                    "text": [
                        "/opt/conda/envs/Python-3.8-main/lib/python3.8/site-packages/seaborn/distributions.py:2557: FutureWarning: `distplot` is a deprecated function and will be removed in a future version. Please adapt your code to use either `displot` (a figure-level function with similar flexibility) or `kdeplot` (an axes-level function for kernel density plots).\n",
                        "  warnings.warn(msg, FutureWarning)\n",
                        "/opt/conda/envs/Python-3.8-main/lib/python3.8/site-packages/seaborn/distributions.py:2557: FutureWarning: `distplot` is a deprecated function and will be removed in a future version. Please adapt your code to use either `displot` (a figure-level function with similar flexibility) or `kdeplot` (an axes-level function for kernel density plots).\n",
                        "  warnings.warn(msg, FutureWarning)\n"
                    ]
                },
                {
                    "data": {
                        "image/png": "[encoded data removed]",
                        "text/plain": [
                            "<Figure size 864x720 with 1 Axes>"
                        ]
                    },
                    "metadata": {
                        "needs_background": "light"
                    },
                    "output_type": "display_data"
                }
            ],
            "source": [
                "Title = 'Distribution  Plot of  Predicted Value Using Training Data vs Training Data Distribution'\n",
                "DistributionPlot(y_train, yhat_train, \"Actual Values (Train)\", \"Predicted Values (Train)\", Title)"
            ]
        },
        {
            "cell_type": "markdown",
            "metadata": {},
            "source": [
                "Figure 1: Plot of predicted values using the training data compared to the actual values of the training data.\n"
            ]
        },
        {
            "cell_type": "markdown",
            "metadata": {},
            "source": [
                "So far, the model seems to be doing well in learning from the training dataset. But what happens when the model encounters new data from the testing dataset? When the model generates new values from the test data, we see the distribution of the predicted values is much different from the actual target values.\n"
            ]
        },
        {
            "cell_type": "code",
            "execution_count": 130,
            "metadata": {},
            "outputs": [
                {
                    "name": "stderr",
                    "output_type": "stream",
                    "text": [
                        "/opt/conda/envs/Python-3.8-main/lib/python3.8/site-packages/seaborn/distributions.py:2557: FutureWarning: `distplot` is a deprecated function and will be removed in a future version. Please adapt your code to use either `displot` (a figure-level function with similar flexibility) or `kdeplot` (an axes-level function for kernel density plots).\n",
                        "  warnings.warn(msg, FutureWarning)\n",
                        "/opt/conda/envs/Python-3.8-main/lib/python3.8/site-packages/seaborn/distributions.py:2557: FutureWarning: `distplot` is a deprecated function and will be removed in a future version. Please adapt your code to use either `displot` (a figure-level function with similar flexibility) or `kdeplot` (an axes-level function for kernel density plots).\n",
                        "  warnings.warn(msg, FutureWarning)\n"
                    ]
                },
                {
                    "data": {
                        "image/png": "[encoded data removed]",
                        "text/plain": [
                            "<Figure size 864x720 with 1 Axes>"
                        ]
                    },
                    "metadata": {
                        "needs_background": "light"
                    },
                    "output_type": "display_data"
                }
            ],
            "source": [
                "Title='Distribution  Plot of  Predicted Value Using Test Data vs Data Distribution of Test Data'\n",
                "DistributionPlot(y_test,yhat_test,\"Actual Values (Test)\",\"Predicted Values (Test)\",Title)"
            ]
        },
        {
            "cell_type": "markdown",
            "metadata": {},
            "source": [
                "Figure 2: Plot of predicted value using the test data compared to the actual values of the test data.\n"
            ]
        },
        {
            "cell_type": "markdown",
            "metadata": {},
            "source": [
                "<p>Comparing Figure 1 and Figure 2, it is evident that the distribution of the test data in Figure 1 is much better at fitting the data. This difference in Figure 2 is apparent in the range of 5000 to 15,000. This is where the shape of the distribution is extremely different. Let's see if polynomial regression also exhibits a drop in the prediction accuracy when analysing the test dataset.</p>\n"
            ]
        },
        {
            "cell_type": "code",
            "execution_count": 131,
            "metadata": {},
            "outputs": [],
            "source": [
                "from sklearn.preprocessing import PolynomialFeatures"
            ]
        },
        {
            "cell_type": "markdown",
            "metadata": {},
            "source": [
                "<h4>Overfitting</h4>\n",
                "<p>Overfitting occurs when the model fits the noise, but not the underlying process. Therefore, when testing your model using the test set, your model does not perform as well since it is modelling noise, not the underlying process that generated the relationship. Let's create a degree 5 polynomial model.</p>\n"
            ]
        },
        {
            "cell_type": "markdown",
            "metadata": {},
            "source": [
                "Let's use 55 percent of the data for training and the rest for testing:\n"
            ]
        },
        {
            "cell_type": "code",
            "execution_count": 132,
            "metadata": {},
            "outputs": [],
            "source": [
                "x_train, x_test, y_train, y_test = train_test_split(x_data, y_data, test_size=0.45, random_state=0)"
            ]
        },
        {
            "cell_type": "markdown",
            "metadata": {},
            "source": [
                "We will perform a degree 5 polynomial transformation on the feature <b>'horsepower'</b>.\n"
            ]
        },
        {
            "cell_type": "code",
            "execution_count": 133,
            "metadata": {},
            "outputs": [
                {
                    "data": {
                        "text/plain": [
                            "PolynomialFeatures(degree=5)"
                        ]
                    },
                    "execution_count": 133,
                    "metadata": {},
                    "output_type": "execute_result"
                }
            ],
            "source": [
                "pr = PolynomialFeatures(degree=5)\n",
                "x_train_pr = pr.fit_transform(x_train[['horsepower']])\n",
                "x_test_pr = pr.fit_transform(x_test[['horsepower']])\n",
                "pr"
            ]
        },
        {
            "cell_type": "markdown",
            "metadata": {},
            "source": [
                "Now, let's create a Linear Regression model \"poly\" and train it.\n"
            ]
        },
        {
            "cell_type": "code",
            "execution_count": 134,
            "metadata": {},
            "outputs": [
                {
                    "data": {
                        "text/plain": [
                            "LinearRegression()"
                        ]
                    },
                    "execution_count": 134,
                    "metadata": {},
                    "output_type": "execute_result"
                }
            ],
            "source": [
                "poly = LinearRegression()\n",
                "poly.fit(x_train_pr, y_train)"
            ]
        },
        {
            "cell_type": "markdown",
            "metadata": {},
            "source": [
                "We can see the output of our model using the method \"predict.\" We assign the values to \"yhat\".\n"
            ]
        },
        {
            "cell_type": "code",
            "execution_count": 135,
            "metadata": {},
            "outputs": [
                {
                    "data": {
                        "text/plain": [
                            "array([ 6728.66261514,  7307.99517888, 12213.79574619, 18893.23100425,\n",
                            "       19995.9316467 ])"
                        ]
                    },
                    "execution_count": 135,
                    "metadata": {},
                    "output_type": "execute_result"
                }
            ],
            "source": [
                "yhat = poly.predict(x_test_pr)\n",
                "yhat[0:5]"
            ]
        },
        {
            "cell_type": "markdown",
            "metadata": {},
            "source": [
                "Let's take the first five predicted values and compare it to the actual targets.\n"
            ]
        },
        {
            "cell_type": "code",
            "execution_count": 136,
            "metadata": {},
            "outputs": [
                {
                    "name": "stdout",
                    "output_type": "stream",
                    "text": [
                        "Predicted values: [ 6728.66261514  7307.99517888 12213.79574619 18893.23100425]\n",
                        "True values: [ 6295. 10698. 13860. 13499.]\n"
                    ]
                }
            ],
            "source": [
                "print(\"Predicted values:\", yhat[0:4])\n",
                "print(\"True values:\", y_test[0:4].values)"
            ]
        },
        {
            "cell_type": "markdown",
            "metadata": {},
            "source": [
                "We will use the function \"PollyPlot\" that we defined at the beginning of the lab to display the training data, testing data, and the predicted function.\n"
            ]
        },
        {
            "cell_type": "code",
            "execution_count": 137,
            "metadata": {
                "scrolled": false
            },
            "outputs": [
                {
                    "data": {
                        "image/png": "[encoded data removed]",
                        "text/plain": [
                            "<Figure size 864x720 with 1 Axes>"
                        ]
                    },
                    "metadata": {
                        "needs_background": "light"
                    },
                    "output_type": "display_data"
                }
            ],
            "source": [
                "PollyPlot(x_train[['horsepower']], x_test[['horsepower']], y_train, y_test, poly,pr)"
            ]
        },
        {
            "cell_type": "markdown",
            "metadata": {},
            "source": [
                "Figure 3: A polynomial regression model where red dots represent training data, green dots represent test data, and the blue line represents the model prediction.\n"
            ]
        },
        {
            "cell_type": "markdown",
            "metadata": {},
            "source": [
                "We see that the estimated function appears to track the data but around 200 horsepower, the function begins to diverge from the data points.\n"
            ]
        },
        {
            "cell_type": "markdown",
            "metadata": {},
            "source": [
                "R^2 of the training data:\n"
            ]
        },
        {
            "cell_type": "code",
            "execution_count": 138,
            "metadata": {},
            "outputs": [
                {
                    "data": {
                        "text/plain": [
                            "0.5567716902317994"
                        ]
                    },
                    "execution_count": 138,
                    "metadata": {},
                    "output_type": "execute_result"
                }
            ],
            "source": [
                "poly.score(x_train_pr, y_train)"
            ]
        },
        {
            "cell_type": "markdown",
            "metadata": {},
            "source": [
                "R^2 of the test data:\n"
            ]
        },
        {
            "cell_type": "code",
            "execution_count": 139,
            "metadata": {},
            "outputs": [
                {
                    "data": {
                        "text/plain": [
                            "-29.871374052452566"
                        ]
                    },
                    "execution_count": 139,
                    "metadata": {},
                    "output_type": "execute_result"
                }
            ],
            "source": [
                "poly.score(x_test_pr, y_test)"
            ]
        },
        {
            "cell_type": "markdown",
            "metadata": {},
            "source": [
                "We see the R^2 for the training data is 0.5567 while the R^2 on the test data was -29.87.  The lower the R^2, the worse the model. A negative R^2 is a sign of overfitting.\n"
            ]
        },
        {
            "cell_type": "markdown",
            "metadata": {},
            "source": [
                "Let's see how the R^2 changes on the test data for different order polynomials and then plot the results:\n"
            ]
        },
        {
            "cell_type": "code",
            "execution_count": 140,
            "metadata": {},
            "outputs": [
                {
                    "data": {
                        "text/plain": [
                            "Text(3, 0.75, 'Maximum R^2 ')"
                        ]
                    },
                    "execution_count": 140,
                    "metadata": {},
                    "output_type": "execute_result"
                },
                {
                    "data": {
                        "image/png": "[encoded data removed]",
                        "text/plain": [
                            "<Figure size 432x288 with 1 Axes>"
                        ]
                    },
                    "metadata": {
                        "needs_background": "light"
                    },
                    "output_type": "display_data"
                }
            ],
            "source": [
                "Rsqu_test = []\n",
                "\n",
                "order = [1, 2, 3, 4]\n",
                "for n in order:\n",
                "    pr = PolynomialFeatures(degree=n)\n",
                "    \n",
                "    x_train_pr = pr.fit_transform(x_train[['horsepower']])\n",
                "    \n",
                "    x_test_pr = pr.fit_transform(x_test[['horsepower']])    \n",
                "    \n",
                "    lr.fit(x_train_pr, y_train)\n",
                "    \n",
                "    Rsqu_test.append(lr.score(x_test_pr, y_test))\n",
                "\n",
                "plt.plot(order, Rsqu_test)\n",
                "plt.xlabel('order')\n",
                "plt.ylabel('R^2')\n",
                "plt.title('R^2 Using Test Data')\n",
                "plt.text(3, 0.75, 'Maximum R^2 ')    "
            ]
        },
        {
            "cell_type": "markdown",
            "metadata": {},
            "source": [
                "We see the R^2 gradually increases until an order three polynomial is used. Then, the R^2 dramatically decreases at an order four polynomial.\n"
            ]
        },
        {
            "cell_type": "markdown",
            "metadata": {},
            "source": [
                "The following function will be used in the next section. Please run the cell below.\n"
            ]
        },
        {
            "cell_type": "code",
            "execution_count": 141,
            "metadata": {},
            "outputs": [],
            "source": [
                "def f(order, test_data):\n",
                "    x_train, x_test, y_train, y_test = train_test_split(x_data, y_data, test_size=test_data, random_state=0)\n",
                "    pr = PolynomialFeatures(degree=order)\n",
                "    x_train_pr = pr.fit_transform(x_train[['horsepower']])\n",
                "    x_test_pr = pr.fit_transform(x_test[['horsepower']])\n",
                "    poly = LinearRegression()\n",
                "    poly.fit(x_train_pr,y_train)\n",
                "    PollyPlot(x_train[['horsepower']], x_test[['horsepower']], y_train,y_test, poly, pr)"
            ]
        },
        {
            "cell_type": "markdown",
            "metadata": {},
            "source": [
                "The following interface allows you to experiment with different polynomial orders and different amounts of data.\n"
            ]
        },
        {
            "cell_type": "code",
            "execution_count": 142,
            "metadata": {},
            "outputs": [
                {
                    "data": {
                        "image/png": "[encoded data removed]",
                        "text/plain": [
                            "<Figure size 864x720 with 1 Axes>"
                        ]
                    },
                    "metadata": {
                        "needs_background": "light"
                    },
                    "output_type": "display_data"
                },
                {
                    "data": {
                        "text/plain": [
                            "<function __main__.f(order, test_data)>"
                        ]
                    },
                    "execution_count": 142,
                    "metadata": {},
                    "output_type": "execute_result"
                }
            ],
            "source": [
                "interact(f, order=(0, 6, 1), test_data=(0.05, 0.95, 0.05))"
            ]
        },
        {
            "cell_type": "markdown",
            "metadata": {},
            "source": [
                "<div class=\"alert alert-danger alertdanger\" style=\"margin-top: 20px\">\n",
                "<h1> Question  #4a):</h1>\n",
                "\n",
                "<b>We can perform polynomial transformations with more than one feature. Create a \"PolynomialFeatures\" object \"pr1\" of degree two.</b>\n",
                "\n",
                "</div>\n"
            ]
        },
        {
            "cell_type": "code",
            "execution_count": 143,
            "metadata": {},
            "outputs": [],
            "source": [
                "# Write your code below and press Shift+Enter to execute \n",
                "pr1=PolynomialFeatures(degree=2)"
            ]
        },
        {
            "cell_type": "markdown",
            "metadata": {},
            "source": [
                "<details><summary>Click here for the solution</summary>\n",
                "\n",
                "```python\n",
                "pr1=PolynomialFeatures(degree=2)\n",
                "\n",
                "```\n",
                "\n",
                "</details>\n"
            ]
        },
        {
            "cell_type": "markdown",
            "metadata": {},
            "source": [
                "<div class=\"alert alert-danger alertdanger\" style=\"margin-top: 20px\">\n",
                "<h1> Question  #4b): </h1>\n",
                "\n",
                "<b> \n",
                " Transform the training and testing samples for the features 'horsepower', 'curb-weight', 'engine-size' and 'highway-mpg'. Hint: use the method \"fit_transform\".</b>\n",
                "</div>\n"
            ]
        },
        {
            "cell_type": "code",
            "execution_count": 144,
            "metadata": {},
            "outputs": [],
            "source": [
                "# Write your code below and press Shift+Enter to execute \n",
                "x_train_pr1=pr1.fit_transform(x_train[['horsepower','curb-weight','engine-size','highway-mpg']])\n",
                "x_test_pr1=pr1.fit_transform(x_test[['horsepower','curb-weight','engine-size','highway-mpg']])"
            ]
        },
        {
            "cell_type": "markdown",
            "metadata": {},
            "source": [
                "<details><summary>Click here for the solution</summary>\n",
                "\n",
                "```python\n",
                "x_train_pr1=pr1.fit_transform(x_train[['horsepower', 'curb-weight', 'engine-size', 'highway-mpg']])\n",
                "\n",
                "x_test_pr1=pr1.fit_transform(x_test[['horsepower', 'curb-weight', 'engine-size', 'highway-mpg']])\n",
                "\n",
                "\n",
                "```\n",
                "\n",
                "</details>\n"
            ]
        },
        {
            "cell_type": "markdown",
            "metadata": {},
            "source": [
                "<!-- The answer is below:\n",
                "\n",
                "x_train_pr1=pr.fit_transform(x_train[['horsepower', 'curb-weight', 'engine-size', 'highway-mpg']])\n",
                "x_test_pr1=pr.fit_transform(x_test[['horsepower', 'curb-weight', 'engine-size', 'highway-mpg']])\n",
                "\n",
                "-->\n"
            ]
        },
        {
            "cell_type": "markdown",
            "metadata": {},
            "source": [
                "<div class=\"alert alert-danger alertdanger\" style=\"margin-top: 20px\">\n",
                "<h1> Question  #4c): </h1>\n",
                "<b> \n",
                "How many dimensions does the new feature have? Hint: use the attribute \"shape\".\n",
                "</b>\n",
                "</div>\n"
            ]
        },
        {
            "cell_type": "code",
            "execution_count": 145,
            "metadata": {},
            "outputs": [
                {
                    "data": {
                        "text/plain": [
                            "(110, 15)"
                        ]
                    },
                    "execution_count": 145,
                    "metadata": {},
                    "output_type": "execute_result"
                }
            ],
            "source": [
                "# Write your code below and press Shift+Enter to execute \n",
                "x_train_pr1.shape"
            ]
        },
        {
            "cell_type": "markdown",
            "metadata": {},
            "source": [
                "<details><summary>Click here for the solution</summary>\n",
                "\n",
                "```python\n",
                "x_train_pr1.shape #there are now 15 features\n",
                "\n",
                "\n",
                "```\n",
                "\n",
                "</details>\n"
            ]
        },
        {
            "cell_type": "markdown",
            "metadata": {},
            "source": [
                "<div class=\"alert alert-danger alertdanger\" style=\"margin-top: 20px\">\n",
                "<h1> Question  #4d): </h1>\n",
                "\n",
                "<b> \n",
                "Create a linear regression model \"poly1\". Train the object using the method \"fit\" using the polynomial features.</b>\n",
                "</div>\n"
            ]
        },
        {
            "cell_type": "code",
            "execution_count": 146,
            "metadata": {},
            "outputs": [
                {
                    "data": {
                        "text/plain": [
                            "LinearRegression()"
                        ]
                    },
                    "execution_count": 146,
                    "metadata": {},
                    "output_type": "execute_result"
                }
            ],
            "source": [
                "# Write your code below and press Shift+Enter to execute \n",
                "poly1=LinearRegression()\n",
                "poly1.fit(x_train_pr1,y_train)"
            ]
        },
        {
            "cell_type": "markdown",
            "metadata": {},
            "source": [
                "<details><summary>Click here for the solution</summary>\n",
                "\n",
                "```python\n",
                "poly1=LinearRegression().fit(x_train_pr1,y_train)\n",
                "\n",
                "\n",
                "```\n",
                "\n",
                "</details>\n"
            ]
        },
        {
            "cell_type": "markdown",
            "metadata": {},
            "source": [
                " <div class=\"alert alert-danger alertdanger\" style=\"margin-top: 20px\">\n",
                "<h1> Question  #4e): </h1>\n",
                "<b>Use the method  \"predict\" to predict an output on the polynomial features, then use the function \"DistributionPlot\" to display the distribution of the predicted test output vs. the actual test data.</b>\n",
                "</div>\n"
            ]
        },
        {
            "cell_type": "code",
            "execution_count": 147,
            "metadata": {},
            "outputs": [
                {
                    "name": "stderr",
                    "output_type": "stream",
                    "text": [
                        "/opt/conda/envs/Python-3.8-main/lib/python3.8/site-packages/seaborn/distributions.py:2557: FutureWarning: `distplot` is a deprecated function and will be removed in a future version. Please adapt your code to use either `displot` (a figure-level function with similar flexibility) or `kdeplot` (an axes-level function for kernel density plots).\n",
                        "  warnings.warn(msg, FutureWarning)\n",
                        "/opt/conda/envs/Python-3.8-main/lib/python3.8/site-packages/seaborn/distributions.py:2557: FutureWarning: `distplot` is a deprecated function and will be removed in a future version. Please adapt your code to use either `displot` (a figure-level function with similar flexibility) or `kdeplot` (an axes-level function for kernel density plots).\n",
                        "  warnings.warn(msg, FutureWarning)\n"
                    ]
                },
                {
                    "data": {
                        "image/png": "[encoded data removed]",
                        "text/plain": [
                            "<Figure size 864x720 with 1 Axes>"
                        ]
                    },
                    "metadata": {
                        "needs_background": "light"
                    },
                    "output_type": "display_data"
                }
            ],
            "source": [
                "# Write your code below and press Shift+Enter to execute \n",
                "yhat_test1=poly1.predict(x_test_pr1)\n",
                "Title='Distribution Plot of Predicted Value Using Test Data vs Data Distribution of Test Data'\n",
                "DistributionPlot(y_test,yhat_test1,\"Actual Values (Test)\",\"Predicted Values (Test)\", Title)"
            ]
        },
        {
            "cell_type": "markdown",
            "metadata": {},
            "source": [
                "<details><summary>Click here for the solution</summary>\n",
                "\n",
                "```python\n",
                "yhat_test1=poly1.predict(x_test_pr1)\n",
                "\n",
                "Title='Distribution  Plot of  Predicted Value Using Test Data vs Data Distribution of Test Data'\n",
                "\n",
                "DistributionPlot(y_test, yhat_test1, \"Actual Values (Test)\", \"Predicted Values (Test)\", Title)\n",
                "\n",
                "```\n",
                "\n",
                "</details>\n"
            ]
        },
        {
            "cell_type": "markdown",
            "metadata": {},
            "source": [
                "<div class=\"alert alert-danger alertdanger\" style=\"margin-top: 20px\">\n",
                "<h1> Question  #4f): </h1>\n",
                "\n",
                "<b>Using the distribution plot above, describe (in words) the two regions where the predicted prices are less accurate than the actual prices.</b>\n",
                "\n",
                "</div>\n"
            ]
        },
        {
            "cell_type": "markdown",
            "metadata": {},
            "source": [
                "#### Write your code below and press Shift+Enter to execute \n",
                "###### The predicted value is higher than actual value for cars where the price $10,000 range, conversely the predicted price is lower than the price cost in the $30,000 to $40,000 range. As such the model is not as accurate in these ranges."
            ]
        },
        {
            "cell_type": "markdown",
            "metadata": {},
            "source": [
                "<details><summary>Click here for the solution</summary>\n",
                "\n",
                "```python\n",
                "#The predicted value is higher than actual value for cars where the price $10,000 range, conversely the predicted price is lower than the price cost in the $30,000 to $40,000 range. As such the model is not as accurate in these ranges.\n",
                "\n",
                "```\n",
                "\n",
                "</details>\n"
            ]
        },
        {
            "cell_type": "markdown",
            "metadata": {},
            "source": [
                "<h2 id=\"ref3\">Part 3: Ridge Regression</h2> \n"
            ]
        },
        {
            "cell_type": "markdown",
            "metadata": {},
            "source": [
                "In this section, we will review Ridge Regression and see how the parameter alpha changes the model. Just a note, here our test data will be used as validation data.\n"
            ]
        },
        {
            "cell_type": "markdown",
            "metadata": {},
            "source": [
                "Let's perform a degree two polynomial transformation on our data.\n"
            ]
        },
        {
            "cell_type": "code",
            "execution_count": 148,
            "metadata": {},
            "outputs": [],
            "source": [
                "pr=PolynomialFeatures(degree=2)\n",
                "x_train_pr=pr.fit_transform(x_train[['horsepower', 'curb-weight', 'engine-size', 'highway-mpg','normalized-losses','symboling']])\n",
                "x_test_pr=pr.fit_transform(x_test[['horsepower', 'curb-weight', 'engine-size', 'highway-mpg','normalized-losses','symboling']])"
            ]
        },
        {
            "cell_type": "markdown",
            "metadata": {},
            "source": [
                "Let's import  <b>Ridge</b>  from the module <b>linear models</b>.\n"
            ]
        },
        {
            "cell_type": "code",
            "execution_count": 149,
            "metadata": {},
            "outputs": [],
            "source": [
                "from sklearn.linear_model import Ridge"
            ]
        },
        {
            "cell_type": "markdown",
            "metadata": {},
            "source": [
                "Let's create a Ridge regression object, setting the regularization parameter (alpha) to 0.1\n"
            ]
        },
        {
            "cell_type": "code",
            "execution_count": 150,
            "metadata": {},
            "outputs": [],
            "source": [
                "RigeModel=Ridge(alpha=1)"
            ]
        },
        {
            "cell_type": "markdown",
            "metadata": {},
            "source": [
                "Like regular regression, you can fit the model using the method <b>fit</b>.\n"
            ]
        },
        {
            "cell_type": "code",
            "execution_count": 151,
            "metadata": {},
            "outputs": [
                {
                    "data": {
                        "text/plain": [
                            "Ridge(alpha=1)"
                        ]
                    },
                    "execution_count": 151,
                    "metadata": {},
                    "output_type": "execute_result"
                }
            ],
            "source": [
                "RigeModel.fit(x_train_pr, y_train)"
            ]
        },
        {
            "cell_type": "markdown",
            "metadata": {},
            "source": [
                "Similarly, you can obtain a prediction:\n"
            ]
        },
        {
            "cell_type": "code",
            "execution_count": 152,
            "metadata": {},
            "outputs": [],
            "source": [
                "yhat = RigeModel.predict(x_test_pr)"
            ]
        },
        {
            "cell_type": "markdown",
            "metadata": {},
            "source": [
                "Let's compare the first five predicted samples to our test set:\n"
            ]
        },
        {
            "cell_type": "code",
            "execution_count": 153,
            "metadata": {},
            "outputs": [
                {
                    "name": "stdout",
                    "output_type": "stream",
                    "text": [
                        "predicted: [ 6570.82441941  9636.2489147  20949.92322737 19403.60313256]\n",
                        "test set : [ 6295. 10698. 13860. 13499.]\n"
                    ]
                }
            ],
            "source": [
                "print('predicted:', yhat[0:4])\n",
                "print('test set :', y_test[0:4].values)"
            ]
        },
        {
            "cell_type": "markdown",
            "metadata": {},
            "source": [
                "We select the value of alpha that minimizes the test error. To do so, we can use a for loop. We have also created a progress bar to see how many iterations we have completed so far.\n"
            ]
        },
        {
            "cell_type": "code",
            "execution_count": 157,
            "metadata": {},
            "outputs": [
                {
                    "name": "stderr",
                    "output_type": "stream",
                    "text": [
                        "100%|██████████| 10/10 [00:00<00:00, 136.56it/s, Test Score=0.547, Train Score=0.867]\n"
                    ]
                }
            ],
            "source": [
                "from tqdm import tqdm\n",
                "\n",
                "Rsqu_test = []\n",
                "Rsqu_train = []\n",
                "dummy1 = []\n",
                "Alpha = 10 * np.array(range(0,10))\n",
                "pbar = tqdm(Alpha)\n",
                "\n",
                "for alpha in pbar:\n",
                "    RigeModel = Ridge(alpha=alpha) \n",
                "    RigeModel.fit(x_train_pr, y_train)\n",
                "    test_score, train_score = RigeModel.score(x_test_pr, y_test), RigeModel.score(x_train_pr, y_train)\n",
                "    \n",
                "    pbar.set_postfix({\"Test Score\": test_score, \"Train Score\": train_score})\n",
                "\n",
                "    Rsqu_test.append(test_score)\n",
                "    Rsqu_train.append(train_score)"
            ]
        },
        {
            "cell_type": "markdown",
            "metadata": {},
            "source": [
                "We can plot out the value of R^2 for different alphas:\n"
            ]
        },
        {
            "cell_type": "code",
            "execution_count": 158,
            "metadata": {},
            "outputs": [
                {
                    "data": {
                        "text/plain": [
                            "<matplotlib.legend.Legend at 0x7ff4f69abb20>"
                        ]
                    },
                    "execution_count": 158,
                    "metadata": {},
                    "output_type": "execute_result"
                },
                {
                    "data": {
                        "image/png": "[encoded data removed]",
                        "text/plain": [
                            "<Figure size 864x720 with 1 Axes>"
                        ]
                    },
                    "metadata": {
                        "needs_background": "light"
                    },
                    "output_type": "display_data"
                }
            ],
            "source": [
                "width = 12\n",
                "height = 10\n",
                "plt.figure(figsize=(width, height))\n",
                "\n",
                "plt.plot(Alpha,Rsqu_test, label='validation data  ')\n",
                "plt.plot(Alpha,Rsqu_train, 'r', label='training Data ')\n",
                "plt.xlabel('alpha')\n",
                "plt.ylabel('R^2')\n",
                "plt.legend()"
            ]
        },
        {
            "cell_type": "markdown",
            "metadata": {},
            "source": [
                "**Figure 4**: The blue line represents the R^2 of the validation data, and the red line represents the R^2 of the training data. The x-axis represents the different values of Alpha.\n"
            ]
        },
        {
            "cell_type": "markdown",
            "metadata": {},
            "source": [
                "Here the model is built and tested on the same data, so the training and test data are the same.\n",
                "\n",
                "The red line in Figure 4 represents the R^2 of the training data. As alpha increases the R^2 decreases. Therefore, as alpha increases, the model performs worse on the training data\n",
                "\n",
                "The blue line represents the R^2 on the validation data. As the value for alpha increases, the R^2 increases and converges at a point.\n"
            ]
        },
        {
            "cell_type": "markdown",
            "metadata": {},
            "source": [
                "<div class=\"alert alert-danger alertdanger\" style=\"margin-top: 20px\">\n",
                "<h1> Question  #5): </h1>\n",
                "\n",
                "Perform Ridge regression. Calculate the R^2 using the polynomial features, use the training data to train the model and use the test data to test the model. The parameter alpha should be set to 10.\n",
                "\n",
                "</div>\n"
            ]
        },
        {
            "cell_type": "code",
            "execution_count": 159,
            "metadata": {},
            "outputs": [
                {
                    "data": {
                        "text/plain": [
                            "0.5418576440206451"
                        ]
                    },
                    "execution_count": 159,
                    "metadata": {},
                    "output_type": "execute_result"
                }
            ],
            "source": [
                "# Write your code below and press Shift+Enter to execute \n",
                "RidgeModel1=Ridge(alpha=10)\n",
                "RidgeModel1.fit(x_train_pr,y_train)\n",
                "RidgeModel1.score(x_test_pr,y_test)"
            ]
        },
        {
            "cell_type": "markdown",
            "metadata": {},
            "source": [
                "<details><summary>Click here for the solution</summary>\n",
                "\n",
                "```python\n",
                "RigeModel = Ridge(alpha=10) \n",
                "RigeModel.fit(x_train_pr, y_train)\n",
                "RigeModel.score(x_test_pr, y_test)\n",
                "\n",
                "```\n",
                "\n",
                "</details>\n"
            ]
        },
        {
            "cell_type": "markdown",
            "metadata": {},
            "source": [
                "<h2 id=\"ref4\">Part 4: Grid Search</h2>\n"
            ]
        },
        {
            "cell_type": "markdown",
            "metadata": {},
            "source": [
                "The term alpha is a hyperparameter. Sklearn has the class <b>GridSearchCV</b> to make the process of finding the best hyperparameter simpler.\n"
            ]
        },
        {
            "cell_type": "markdown",
            "metadata": {},
            "source": [
                "Let's import <b>GridSearchCV</b> from  the module <b>model_selection</b>.\n"
            ]
        },
        {
            "cell_type": "code",
            "execution_count": 160,
            "metadata": {},
            "outputs": [],
            "source": [
                "from sklearn.model_selection import GridSearchCV"
            ]
        },
        {
            "cell_type": "markdown",
            "metadata": {},
            "source": [
                "We create a dictionary of parameter values:\n"
            ]
        },
        {
            "cell_type": "code",
            "execution_count": 161,
            "metadata": {},
            "outputs": [
                {
                    "data": {
                        "text/plain": [
                            "[{'alpha': [0.001, 0.1, 1, 10, 100, 1000, 10000, 100000, 100000]}]"
                        ]
                    },
                    "execution_count": 161,
                    "metadata": {},
                    "output_type": "execute_result"
                }
            ],
            "source": [
                "parameters1= [{'alpha': [0.001,0.1,1, 10, 100, 1000, 10000, 100000, 100000]}]\n",
                "parameters1"
            ]
        },
        {
            "cell_type": "markdown",
            "metadata": {},
            "source": [
                "Create a Ridge regression object:\n"
            ]
        },
        {
            "cell_type": "code",
            "execution_count": 162,
            "metadata": {},
            "outputs": [
                {
                    "data": {
                        "text/plain": [
                            "Ridge()"
                        ]
                    },
                    "execution_count": 162,
                    "metadata": {},
                    "output_type": "execute_result"
                }
            ],
            "source": [
                "RR=Ridge()\n",
                "RR"
            ]
        },
        {
            "cell_type": "markdown",
            "metadata": {},
            "source": [
                "Create a ridge grid search object:\n"
            ]
        },
        {
            "cell_type": "code",
            "execution_count": 163,
            "metadata": {},
            "outputs": [],
            "source": [
                "Grid1 = GridSearchCV(RR, parameters1,cv=4, iid=None)"
            ]
        },
        {
            "cell_type": "markdown",
            "metadata": {},
            "source": [
                "In order to avoid a deprecation warning due to the iid parameter, we set the value of iid to \"None\".\n",
                "\n",
                "Fit the model:\n"
            ]
        },
        {
            "cell_type": "code",
            "execution_count": 164,
            "metadata": {},
            "outputs": [
                {
                    "name": "stderr",
                    "output_type": "stream",
                    "text": [
                        "/opt/conda/envs/Python-3.8-main/lib/python3.8/site-packages/sklearn/model_selection/_search.py:847: FutureWarning: The parameter 'iid' is deprecated in 0.22 and will be removed in 0.24.\n",
                        "  warnings.warn(\n"
                    ]
                },
                {
                    "data": {
                        "text/plain": [
                            "GridSearchCV(cv=4, estimator=Ridge(), iid=None,\n",
                            "             param_grid=[{'alpha': [0.001, 0.1, 1, 10, 100, 1000, 10000, 100000,\n",
                            "                                    100000]}])"
                        ]
                    },
                    "execution_count": 164,
                    "metadata": {},
                    "output_type": "execute_result"
                }
            ],
            "source": [
                "Grid1.fit(x_data[['horsepower', 'curb-weight', 'engine-size', 'highway-mpg']], y_data)"
            ]
        },
        {
            "cell_type": "markdown",
            "metadata": {},
            "source": [
                "The object finds the best parameter values on the validation data. We can obtain the estimator with the best parameters and assign it to the variable BestRR as follows:\n"
            ]
        },
        {
            "cell_type": "code",
            "execution_count": 165,
            "metadata": {},
            "outputs": [
                {
                    "data": {
                        "text/plain": [
                            "Ridge(alpha=10000)"
                        ]
                    },
                    "execution_count": 165,
                    "metadata": {},
                    "output_type": "execute_result"
                }
            ],
            "source": [
                "BestRR=Grid1.best_estimator_\n",
                "BestRR"
            ]
        },
        {
            "cell_type": "markdown",
            "metadata": {},
            "source": [
                "We now test our model on the test data:\n"
            ]
        },
        {
            "cell_type": "code",
            "execution_count": 166,
            "metadata": {},
            "outputs": [
                {
                    "data": {
                        "text/plain": [
                            "0.8411649831036151"
                        ]
                    },
                    "execution_count": 166,
                    "metadata": {},
                    "output_type": "execute_result"
                }
            ],
            "source": [
                "BestRR.score(x_test[['horsepower', 'curb-weight', 'engine-size', 'highway-mpg']], y_test)"
            ]
        },
        {
            "cell_type": "markdown",
            "metadata": {},
            "source": [
                "<div class=\"alert alert-danger alertdanger\" style=\"margin-top: 20px\">\n",
                "<h1> Question  #6): </h1>\n",
                "Perform a grid search for the alpha parameter and the normalization parameter, then find the best values of the parameters:\n",
                "</div>\n"
            ]
        },
        {
            "cell_type": "code",
            "execution_count": 167,
            "metadata": {},
            "outputs": [
                {
                    "data": {
                        "text/plain": [
                            "Ridge(alpha=0.1, normalize=True)"
                        ]
                    },
                    "execution_count": 167,
                    "metadata": {},
                    "output_type": "execute_result"
                }
            ],
            "source": [
                "# Write your code below and press Shift+Enter to execute \n",
                "parameters2= [{'alpha': [0.001,0.1,1, 10, 100, 1000,10000,100000,100000],'normalize':[True,False]} ]\n",
                "Grid2 = GridSearchCV(Ridge(), parameters2,cv=4)\n",
                "Grid2.fit(x_data[['horsepower', 'curb-weight', 'engine-size', 'highway-mpg']],y_data)\n",
                "Grid2.best_estimator_"
            ]
        },
        {
            "cell_type": "markdown",
            "metadata": {},
            "source": [
                "<details><summary>Click here for the solution</summary>\n",
                "\n",
                "```python\n",
                "parameters2= [{'alpha': [0.001,0.1,1, 10, 100, 1000,10000,100000,100000],'normalize':[True,False]} ]\n",
                "Grid2 = GridSearchCV(Ridge(), parameters2,cv=4)\n",
                "Grid2.fit(x_data[['horsepower', 'curb-weight', 'engine-size', 'highway-mpg']],y_data)\n",
                "Grid2.best_estimator_\n",
                "\n",
                "\n",
                "```\n",
                "\n",
                "</details>\n"
            ]
        },
        {
            "cell_type": "markdown",
            "metadata": {},
            "source": [
                "### Thank you for completing this lab!\n",
                "\n",
                "## Author\n",
                "\n",
                "<a href=\"https://www.linkedin.com/in/joseph-s-50398b136/?utm_medium=Exinfluencer&utm_source=Exinfluencer&utm_content=000026UJ&utm_term=10006555&utm_id=NA-SkillsNetwork-Channel-SkillsNetworkCoursesIBMDeveloperSkillsNetworkDA0101ENSkillsNetwork20235326-2021-01-01\" target=\"_blank\">Joseph Santarcangelo</a>\n",
                "\n",
                "### Other Contributors\n",
                "\n",
                "<a href=\"https://www.linkedin.com/in/mahdi-noorian-58219234/?utm_medium=Exinfluencer&utm_source=Exinfluencer&utm_content=000026UJ&utm_term=10006555&utm_id=NA-SkillsNetwork-Channel-SkillsNetworkCoursesIBMDeveloperSkillsNetworkDA0101ENSkillsNetwork20235326-2021-01-01\" target=\"_blank\">Mahdi Noorian PhD</a>\n",
                "\n",
                "Bahare Talayian\n",
                "\n",
                "Eric Xiao\n",
                "\n",
                "Steven Dong\n",
                "\n",
                "Parizad\n",
                "\n",
                "Hima Vasudevan\n",
                "\n",
                "<a href=\"https://www.linkedin.com/in/fiorellawever/?utm_medium=Exinfluencer&utm_source=Exinfluencer&utm_content=000026UJ&utm_term=10006555&utm_id=NA-SkillsNetwork-Channel-SkillsNetworkCoursesIBMDeveloperSkillsNetworkDA0101ENSkillsNetwork20235326-2021-01-01\" target=\"_blank\">Fiorella Wenver</a>\n",
                "\n",
                "<a href=\"https:// https://www.linkedin.com/in/yi-leng-yao-84451275/ \" target=\"_blank\" >Yi Yao</a>.\n",
                "\n",
                "## Change Log\n",
                "\n",
                "| Date (YYYY-MM-DD) | Version | Changed By | Change Description                  |\n",
                "| ----------------- | ------- | ---------- | ----------------------------------- |\n",
                "| 2020-10-30        | 2.3     | Lakshmi    | Changed URL of csv                  |\n",
                "| 2020-10-05        | 2.2     | Lakshmi    | Removed unused library imports      |\n",
                "| 2020-09-14        | 2.1     | Lakshmi    | Made changes in OverFitting section |\n",
                "| 2020-08-27        | 2.0     | Lavanya    | Moved lab to course repo in GitLab  |\n",
                "\n",
                "<hr>\n",
                "\n",
                "## <h3 align=\"center\"> © IBM Corporation 2020. All rights reserved. <h3/>\n"
            ]
        }
    ],
    "metadata": {
        "anaconda-cloud": {},
        "kernelspec": {
            "display_name": "Python 3.8",
            "language": "python",
            "name": "python3"
        },
        "language_info": {
            "codemirror_mode": {
                "name": "ipython",
                "version": 3
            },
            "file_extension": ".py",
            "mimetype": "text/x-python",
            "name": "python",
            "nbconvert_exporter": "python",
            "pygments_lexer": "ipython3",
            "version": "3.8.12"
        },
        "metadata": {
            "interpreter": {
                "hash": "ac2eaa0ea0ebeafcc7822e65e46aa9d4f966f30b695406963e145ea4a91cd4fc"
            }
        }
    },
    "nbformat": 4,
    "nbformat_minor": 2
}
